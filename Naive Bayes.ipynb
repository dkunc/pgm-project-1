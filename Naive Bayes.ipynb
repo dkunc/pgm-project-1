{
 "cells": [
  {
   "cell_type": "markdown",
   "metadata": {},
   "source": [
    "# Imports"
   ]
  },
  {
   "cell_type": "code",
   "execution_count": 1,
   "metadata": {},
   "outputs": [
    {
     "name": "stderr",
     "output_type": "stream",
     "text": [
      "c:\\python38\\lib\\site-packages\\numpy\\_distributor_init.py:30: UserWarning: loaded more than 1 DLL from .libs:\n",
      "c:\\python38\\lib\\site-packages\\numpy\\.libs\\libopenblas.NOIJJG62EMASZI6NYURL6JBKM4EVBGM7.gfortran-win_amd64.dll\n",
      "c:\\python38\\lib\\site-packages\\numpy\\.libs\\libopenblas.WCDJNK7YVMPZQ2ME2ZZHJJRJ3JIKNDB7.gfortran-win_amd64.dll\n",
      "  warnings.warn(\"loaded more than 1 DLL from .libs:\"\n"
     ]
    }
   ],
   "source": [
    "import pandas as pd\n",
    "import numpy as np\n",
    "\n",
    "from sklearn.naive_bayes import GaussianNB, MultinomialNB, ComplementNB, BernoulliNB, CategoricalNB\n",
    "from sklearn import preprocessing\n",
    "from sklearn.metrics import classification_report, f1_score, roc_auc_score"
   ]
  },
  {
   "cell_type": "markdown",
   "metadata": {},
   "source": [
    "# Pyro implementation"
   ]
  },
  {
   "cell_type": "code",
   "execution_count": 2,
   "metadata": {},
   "outputs": [],
   "source": [
    "import pyro\n",
    "from pyro import distributions as dist\n",
    "import torch\n",
    "from torch.distributions import constraints\n",
    "\n",
    "pyro.enable_validation(True)\n",
    "\n",
    "\n",
    "from collections import defaultdict\n",
    "import matplotlib.pyplot as plt\n",
    "import pyro\n",
    "import torch\n",
    "from tqdm.auto import tqdm\n",
    "\n",
    "\n",
    "class GaussianNBClassifierPyro:\n",
    "    def __init__(self, num_epochs=500, lr=1e-2):\n",
    "        self._num_epochs = num_epochs\n",
    "        self._lr = lr\n",
    "        \n",
    "        self._num_cls = None\n",
    "        \n",
    "        self._c_logits = None        \n",
    "        self._num_probs = None\n",
    "        \n",
    "    def fit(self, X, y):\n",
    "        pyro.clear_param_store()\n",
    "\n",
    "        svi = pyro.infer.SVI(\n",
    "            model=self._model,\n",
    "            guide=self._guide,\n",
    "            optim=pyro.optim.Adam({'lr': self._lr}),\n",
    "            loss=pyro.infer.Trace_ELBO(),\n",
    "        )\n",
    "        losses = []\n",
    "        with tqdm(range(self._num_epochs)) as pbar:\n",
    "            for epoch in pbar:\n",
    "                loss = svi.step(X, y)\n",
    "                losses.append(loss)\n",
    "\n",
    "                if epoch % 100 == 0:\n",
    "                    print(f\"Epoch: {epoch} Loss = {loss:.3f}\")\n",
    "        return losses\n",
    "\n",
    "    def predict(self, X):\n",
    "        pred = pyro.infer.Predictive(\n",
    "            model=self._model,\n",
    "            guide=self._guide,\n",
    "            num_samples=1,\n",
    "            return_sites=('logP(c|x)',),\n",
    "        )\n",
    "        log_pcx = pred(X)['logP(c|x)'].detach().squeeze(0).squeeze(0)\n",
    "        y_pred = torch.argmax(log_pcx, dim=-1)\n",
    "        return y_pred\n",
    "    \n",
    "    def _model(self, X, y=None):    \n",
    "        if y is not None:  # training mode\n",
    "            self._num_cls = max(y) + 1\n",
    "            \n",
    "            numerical_cols = X.columns.values\n",
    "                    \n",
    "            self._init_c_logits()\n",
    "            self._init_num_params(X, numerical_cols)\n",
    "            self._observe_numerical_features_given_classes(X, y)\n",
    "\n",
    "        self._observe_classes(X, y)\n",
    "        \n",
    "    def _guide(self, X, y=None):\n",
    "        pass  # This is meant to be an empty function\n",
    "    \n",
    "    def _init_c_logits(self):\n",
    "        self._c_logits = pyro.param(\n",
    "            'c_logits',\n",
    "            torch.ones(self._num_cls).div(self._num_cls),\n",
    "            constraint=constraints.simplex,\n",
    "        )\n",
    "        \n",
    "    def _init_num_params(self, X, numerical_cols):\n",
    "        self._num_probs = {\n",
    "            col: {\n",
    "                'mu': pyro.param(f'{col}_mu', torch.zeros(self._num_cls)),\n",
    "                'sigma': pyro.param(f'{col}_sigma', torch.ones(self._num_cls)),\n",
    "            }\n",
    "            for col in numerical_cols\n",
    "        }\n",
    "        \n",
    "    def _observe_numerical_features_given_classes(self, X, y):\n",
    "        for c in range(self._num_cls):\n",
    "            x_c = X[y==c]\n",
    "            with pyro.plate(f'data-numerical-{c}', x_c.shape[0]):\n",
    "                for nc, v in self._num_probs.items():\n",
    "                    pyro.sample(\n",
    "                        f'P(x_{nc}|c={c})', \n",
    "                        dist.Normal(v['mu'][c], v['sigma'][c]),\n",
    "                        obs=torch.tensor(x_c[nc].values),\n",
    "                    )\n",
    "                    \n",
    "    def _get_log_likelihood(self, X):\n",
    "        log_lk = []\n",
    "        \n",
    "        for c in range(self._num_cls):\n",
    "            lps = []\n",
    "            \n",
    "            lps.extend([\n",
    "                dist.Normal(v['mu'][c], v['sigma'][c]).log_prob(torch.tensor(X[nc].values))\n",
    "                for nc, v in self._num_probs.items()\n",
    "            ])\n",
    "\n",
    "            log_lk.append(torch.stack(lps).sum(dim=0))\n",
    "            \n",
    "        return torch.stack(log_lk).t()\n",
    "    \n",
    "    def _observe_classes(self, X, y):\n",
    "        if y is not None:\n",
    "            y = torch.tensor(y)\n",
    "        \n",
    "        log_lk = self._get_log_likelihood(X)\n",
    "\n",
    "        log_pcx = pyro.deterministic('logP(c|x)', self._c_logits.log() + log_lk)\n",
    "        \n",
    "        with pyro.plate('data-pred', X.shape[0]):    \n",
    "            pyro.sample(\n",
    "                'c',\n",
    "                dist.Categorical(logits=log_pcx),\n",
    "                obs=y,\n",
    "            )"
   ]
  },
  {
   "cell_type": "markdown",
   "metadata": {},
   "source": [
    "# PGMPY implementation"
   ]
  },
  {
   "cell_type": "code",
   "execution_count": 3,
   "metadata": {},
   "outputs": [],
   "source": [
    "from pgmpy.models import BayesianModel\n",
    "from pgmpy.estimators import MaximumLikelihoodEstimator\n",
    "\n",
    "\n",
    "class NaiveBayesPGMPY:\n",
    "    def __init__(self, features: list):\n",
    "        self.model = BayesianModel()\n",
    "        for feature in features:\n",
    "            self.model.add_edge('label', feature)\n",
    "\n",
    "\n",
    "    def fit(self, X_train, y_train):\n",
    "        data = X_train.copy()\n",
    "        data['label'] = y_train\n",
    "        self.model.fit(data, estimator=MaximumLikelihoodEstimator)\n",
    "\n",
    "    def predict(self, X_test):\n",
    "        return self.model.predict(X_test)"
   ]
  },
  {
   "cell_type": "markdown",
   "metadata": {},
   "source": [
    "# Cannabis"
   ]
  },
  {
   "cell_type": "code",
   "execution_count": 4,
   "metadata": {},
   "outputs": [],
   "source": [
    "np.random.seed(seed=123)\n",
    "pyro.set_rng_seed(2)"
   ]
  },
  {
   "cell_type": "markdown",
   "metadata": {},
   "source": [
    "## Read data"
   ]
  },
  {
   "cell_type": "code",
   "execution_count": 5,
   "metadata": {},
   "outputs": [],
   "source": [
    "cannabis = pd.read_csv(\"data/cannabis_preprocessed.csv\")"
   ]
  },
  {
   "cell_type": "code",
   "execution_count": 6,
   "metadata": {},
   "outputs": [
    {
     "data": {
      "text/plain": [
       "Index(['Unnamed: 0', 'Age', 'Gender', 'Education', 'Country', 'Ethnicity',\n",
       "       'Nscore', 'Escore', 'Oscore', 'Ascore', 'Cscore', 'Impulsive', 'SS',\n",
       "       'Alcohol', 'Amphetamine', 'AmylNitrite', 'Benzodiazepine', 'Caffeine',\n",
       "       'Chocolate', 'Cocaine', 'Crack', 'Ecstasy', 'Heroin', 'Ketamine',\n",
       "       'LegalHighs', 'LSD', 'Methadone', 'Mushrooms', 'Nicotine', 'VSA',\n",
       "       'Cannabis', 'Usage'],\n",
       "      dtype='object')"
      ]
     },
     "execution_count": 6,
     "metadata": {},
     "output_type": "execute_result"
    }
   ],
   "source": [
    "cannabis.columns"
   ]
  },
  {
   "cell_type": "code",
   "execution_count": 7,
   "metadata": {},
   "outputs": [],
   "source": [
    "human_features = [\"Age\", \"Gender\", \"Education\", \"Country\", \"Ethnicity\", \"Nscore\",  \"Escore\", \"Oscore\",\n",
    "           \"Ascore\", \"Cscore\", \"Impulsive\", \"SS\"]\n",
    "all_features = ['Age', 'Gender', 'Education', 'Country', 'Ethnicity',\n",
    "       'Nscore', 'Escore', 'Oscore', 'Ascore', 'Cscore', 'Impulsive', 'SS',\n",
    "       'Alcohol', 'Amphetamine', 'AmylNitrite', 'Benzodiazepine', 'Caffeine',\n",
    "       'Chocolate', 'Cocaine', 'Crack', 'Ecstasy', 'Heroin', 'Ketamine',\n",
    "       'LegalHighs', 'LSD', 'Methadone', 'Mushrooms', 'Nicotine', 'VSA']\n",
    "\n",
    "target = 'Cannabis'"
   ]
  },
  {
   "cell_type": "code",
   "execution_count": 8,
   "metadata": {},
   "outputs": [],
   "source": [
    "df_train = cannabis[cannabis.Usage == \"Train\"]\n",
    "df_test  = cannabis[cannabis.Usage == \"Test\"]"
   ]
  },
  {
   "cell_type": "code",
   "execution_count": 9,
   "metadata": {},
   "outputs": [],
   "source": [
    "# change features depending on which one you want to use\n",
    "features = human_features\n",
    "X_train = df_train[features]\n",
    "y_train = df_train[target]\n",
    "\n",
    "X_test = df_test[features]\n",
    "y_test = df_test[target]"
   ]
  },
  {
   "cell_type": "code",
   "execution_count": 10,
   "metadata": {},
   "outputs": [],
   "source": [
    "le= preprocessing.LabelEncoder()\n",
    "y_train = le.fit_transform(y_train)\n",
    "y_test = le.transform(y_test)"
   ]
  },
  {
   "cell_type": "code",
   "execution_count": 11,
   "metadata": {},
   "outputs": [],
   "source": [
    "f1_scores = []\n",
    "roc_auc_scores = []"
   ]
  },
  {
   "cell_type": "code",
   "execution_count": 12,
   "metadata": {},
   "outputs": [],
   "source": [
    "def calculate_roc_auc(y_test, y_pred):\n",
    "    test_arr = np.asarray(y_test).reshape(len(y_test), 1)\n",
    "    pred_arr = np.asarray(y_pred).reshape(len(y_pred), 1)\n",
    "    enc = preprocessing.OneHotEncoder()\n",
    "    test_arr = enc.fit_transform(test_arr).toarray()\n",
    "    pred_arr = enc.transform(pred_arr).toarray()\n",
    "    return roc_auc_score(test_arr, pred_arr, multi_class=\"ovr\", average=\"macro\")\n",
    "\n"
   ]
  },
  {
   "cell_type": "markdown",
   "metadata": {},
   "source": [
    "## Sklearn"
   ]
  },
  {
   "cell_type": "code",
   "execution_count": 13,
   "metadata": {},
   "outputs": [
    {
     "name": "stdout",
     "output_type": "stream",
     "text": [
      "              precision    recall  f1-score   support\n",
      "\n",
      "           0       0.64      0.76      0.70       186\n",
      "           1       0.34      0.34      0.34       143\n",
      "           2       0.78      0.65      0.71       237\n",
      "\n",
      "    accuracy                           0.61       566\n",
      "   macro avg       0.58      0.59      0.58       566\n",
      "weighted avg       0.62      0.61      0.61       566\n",
      "\n"
     ]
    }
   ],
   "source": [
    "clf = GaussianNB()\n",
    "clf.fit(X_train, y_train)\n",
    "y_pred = clf.predict(X_test)\n",
    "\n",
    "f1_scores.append(f1_score(y_test, y_pred, average=\"macro\"))\n",
    "roc_auc_scores.append(calculate_roc_auc(y_test, y_pred))\n",
    "\n",
    "print(classification_report(y_test, y_pred))"
   ]
  },
  {
   "cell_type": "code",
   "execution_count": 14,
   "metadata": {},
   "outputs": [
    {
     "name": "stdout",
     "output_type": "stream",
     "text": [
      "              precision    recall  f1-score   support\n",
      "\n",
      "           0       0.61      0.77      0.68       186\n",
      "           1       0.38      0.24      0.29       143\n",
      "           2       0.75      0.76      0.75       237\n",
      "\n",
      "    accuracy                           0.63       566\n",
      "   macro avg       0.58      0.59      0.57       566\n",
      "weighted avg       0.61      0.63      0.61       566\n",
      "\n"
     ]
    }
   ],
   "source": [
    "clf = BernoulliNB()\n",
    "clf.fit(X_train, y_train)\n",
    "y_pred = clf.predict(X_test)\n",
    "\n",
    "f1_scores.append(f1_score(y_test, y_pred, average=\"macro\"))\n",
    "roc_auc_scores.append(calculate_roc_auc(y_test, y_pred))\n",
    "\n",
    "print(classification_report(y_test, y_pred))"
   ]
  },
  {
   "cell_type": "code",
   "execution_count": 15,
   "metadata": {},
   "outputs": [],
   "source": [
    "scaler = preprocessing.MinMaxScaler()\n",
    "X_train_scaled = scaler.fit_transform(X_train)\n",
    "X_test_scaled = scaler.transform(X_test)"
   ]
  },
  {
   "cell_type": "code",
   "execution_count": 16,
   "metadata": {},
   "outputs": [
    {
     "name": "stdout",
     "output_type": "stream",
     "text": [
      "              precision    recall  f1-score   support\n",
      "\n",
      "           0       0.56      0.85      0.68       186\n",
      "           1       0.00      0.00      0.00       143\n",
      "           2       0.69      0.82      0.75       237\n",
      "\n",
      "    accuracy                           0.63       566\n",
      "   macro avg       0.42      0.56      0.48       566\n",
      "weighted avg       0.47      0.63      0.54       566\n",
      "\n"
     ]
    },
    {
     "name": "stderr",
     "output_type": "stream",
     "text": [
      "c:\\python38\\lib\\site-packages\\sklearn\\metrics\\_classification.py:1245: UndefinedMetricWarning: Precision and F-score are ill-defined and being set to 0.0 in labels with no predicted samples. Use `zero_division` parameter to control this behavior.\n",
      "  _warn_prf(average, modifier, msg_start, len(result))\n",
      "c:\\python38\\lib\\site-packages\\sklearn\\metrics\\_classification.py:1245: UndefinedMetricWarning: Precision and F-score are ill-defined and being set to 0.0 in labels with no predicted samples. Use `zero_division` parameter to control this behavior.\n",
      "  _warn_prf(average, modifier, msg_start, len(result))\n",
      "c:\\python38\\lib\\site-packages\\sklearn\\metrics\\_classification.py:1245: UndefinedMetricWarning: Precision and F-score are ill-defined and being set to 0.0 in labels with no predicted samples. Use `zero_division` parameter to control this behavior.\n",
      "  _warn_prf(average, modifier, msg_start, len(result))\n"
     ]
    }
   ],
   "source": [
    "clf = MultinomialNB()\n",
    "clf.fit(X_train_scaled, y_train)\n",
    "y_pred = clf.predict(X_test_scaled)\n",
    "\n",
    "f1_scores.append(f1_score(y_test, y_pred, average=\"macro\"))\n",
    "roc_auc_scores.append(calculate_roc_auc(y_test, y_pred))\n",
    "\n",
    "print(classification_report(y_test, y_pred))"
   ]
  },
  {
   "cell_type": "code",
   "execution_count": 17,
   "metadata": {},
   "outputs": [
    {
     "name": "stdout",
     "output_type": "stream",
     "text": [
      "              precision    recall  f1-score   support\n",
      "\n",
      "           0       0.54      0.92      0.68       186\n",
      "           1       0.00      0.00      0.00       143\n",
      "           2       0.74      0.78      0.76       237\n",
      "\n",
      "    accuracy                           0.63       566\n",
      "   macro avg       0.43      0.57      0.48       566\n",
      "weighted avg       0.49      0.63      0.54       566\n",
      "\n"
     ]
    },
    {
     "name": "stderr",
     "output_type": "stream",
     "text": [
      "c:\\python38\\lib\\site-packages\\sklearn\\metrics\\_classification.py:1245: UndefinedMetricWarning: Precision and F-score are ill-defined and being set to 0.0 in labels with no predicted samples. Use `zero_division` parameter to control this behavior.\n",
      "  _warn_prf(average, modifier, msg_start, len(result))\n",
      "c:\\python38\\lib\\site-packages\\sklearn\\metrics\\_classification.py:1245: UndefinedMetricWarning: Precision and F-score are ill-defined and being set to 0.0 in labels with no predicted samples. Use `zero_division` parameter to control this behavior.\n",
      "  _warn_prf(average, modifier, msg_start, len(result))\n",
      "c:\\python38\\lib\\site-packages\\sklearn\\metrics\\_classification.py:1245: UndefinedMetricWarning: Precision and F-score are ill-defined and being set to 0.0 in labels with no predicted samples. Use `zero_division` parameter to control this behavior.\n",
      "  _warn_prf(average, modifier, msg_start, len(result))\n"
     ]
    }
   ],
   "source": [
    "clf = ComplementNB()\n",
    "clf.fit(X_train_scaled, y_train)\n",
    "y_pred = clf.predict(X_test_scaled)\n",
    "\n",
    "f1_scores.append(f1_score(y_test, y_pred, average=\"macro\"))\n",
    "roc_auc_scores.append(calculate_roc_auc(y_test, y_pred))\n",
    "\n",
    "print(classification_report(y_test, y_pred))"
   ]
  },
  {
   "cell_type": "code",
   "execution_count": 18,
   "metadata": {},
   "outputs": [
    {
     "data": {
      "image/png": "[encoded data removed]",
      "text/plain": [
       "<Figure size 432x288 with 1 Axes>"
      ]
     },
     "metadata": {
      "needs_background": "light"
     },
     "output_type": "display_data"
    },
    {
     "name": "stdout",
     "output_type": "stream",
     "text": [
      "              precision    recall  f1-score   support\n",
      "\n",
      "           0       0.62      0.82      0.71       186\n",
      "           1       0.40      0.25      0.31       143\n",
      "           2       0.76      0.73      0.75       237\n",
      "\n",
      "    accuracy                           0.64       566\n",
      "   macro avg       0.59      0.60      0.59       566\n",
      "weighted avg       0.62      0.64      0.62       566\n",
      "\n"
     ]
    }
   ],
   "source": [
    "f1s = []\n",
    "roc_aucs = []\n",
    "\n",
    "best_f1 = -1\n",
    "best_roc_auc = -1\n",
    "best_report = \"\"\n",
    "\n",
    "for k in range(2, 11):\n",
    "    est = preprocessing.KBinsDiscretizer(n_bins=k, encode='ordinal', strategy='uniform')\n",
    "\n",
    "    X_train_discrete = X_train.copy()\n",
    "    X_train_discrete[features] = est.fit_transform(X_train_discrete)\n",
    "\n",
    "    X_test_discrete = X_test.copy()\n",
    "    X_test_discrete[features] = est.transform(X_test_discrete) \n",
    "    clf = CategoricalNB()\n",
    "    clf.fit(X_train_discrete, y_train)\n",
    "    y_pred = clf.predict(X_test_discrete)    \n",
    "    f1 = f1_score(y_test, y_pred, average=\"macro\")\n",
    "    roc_auc = calculate_roc_auc(y_test, y_pred)\n",
    "    f1s.append(f1)\n",
    "    roc_aucs.append(roc_auc)\n",
    "    if f1 > best_f1:\n",
    "        best_f1 = f1\n",
    "        best_roc_auc = roc_auc\n",
    "        best_report = classification_report(y_test, y_pred)\n",
    "        \n",
    "plt.title(\"Categorical - F1 Score num of bins\")\n",
    "plt.ylim([0, 1])\n",
    "plt.plot(range(2,11),\n",
    "        f1s)        \n",
    "plt.show()        \n",
    "    \n",
    "    \n",
    "f1_scores.append(best_f1)\n",
    "roc_auc_scores.append(best_roc_auc)\n",
    "\n",
    "print(best_report)"
   ]
  },
  {
   "cell_type": "markdown",
   "metadata": {},
   "source": [
    "# Pyro"
   ]
  },
  {
   "cell_type": "code",
   "execution_count": 19,
   "metadata": {
    "scrolled": false
   },
   "outputs": [
    {
     "data": {
      "application/vnd.jupyter.widget-view+json": {
       "model_id": "faa04347e96c4547a250ba9abda63165",
       "version_major": 2,
       "version_minor": 0
      },
      "text/plain": [
       "HBox(children=(FloatProgress(value=0.0), HTML(value='')))"
      ]
     },
     "metadata": {},
     "output_type": "display_data"
    },
    {
     "name": "stdout",
     "output_type": "stream",
     "text": [
      "Epoch: 0 Loss = 23908.029\n",
      "\n"
     ]
    },
    {
     "data": {
      "image/png": "[encoded data removed]",
      "text/plain": [
       "<Figure size 432x288 with 1 Axes>"
      ]
     },
     "metadata": {
      "needs_background": "light"
     },
     "output_type": "display_data"
    },
    {
     "name": "stdout",
     "output_type": "stream",
     "text": [
      "              precision    recall  f1-score   support\n",
      "\n",
      "           0       0.64      0.74      0.69       186\n",
      "           1       0.37      0.31      0.34       143\n",
      "           2       0.76      0.75      0.76       237\n",
      "\n",
      "    accuracy                           0.64       566\n",
      "   macro avg       0.59      0.60      0.59       566\n",
      "weighted avg       0.63      0.64      0.63       566\n",
      "\n"
     ]
    }
   ],
   "source": [
    "clf = GaussianNBClassifierPyro(num_epochs=100)\n",
    "losses = clf.fit(X_train, y_train)\n",
    "y_pred = clf.predict(X_test)\n",
    "\n",
    "plt.title(\"Pyro - losses by num of epochs\")\n",
    "plt.plot(range(1, 101), losses)        \n",
    "plt.show() \n",
    "\n",
    "f1_scores.append(f1_score(y_test, y_pred, average=\"macro\"))\n",
    "roc_auc_scores.append(calculate_roc_auc(y_test, y_pred))\n",
    "\n",
    "print(classification_report(y_test, y_pred))"
   ]
  },
  {
   "cell_type": "markdown",
   "metadata": {},
   "source": [
    "# PGMPY"
   ]
  },
  {
   "cell_type": "code",
   "execution_count": 20,
   "metadata": {
    "scrolled": false
   },
   "outputs": [
    {
     "name": "stderr",
     "output_type": "stream",
     "text": [
      "100%|████████████████████████████████████████████████████████████████████████████████| 361/361 [00:03<00:00, 97.65it/s]\n",
      "100%|██████████████████████████████████████████████████████████████████████████████| 469/469 [00:00<00:00, 1340.03it/s]\n",
      "100%|███████████████████████████████████████████████████████████████████████████████| 546/546 [00:00<00:00, 890.70it/s]\n",
      "100%|███████████████████████████████████████████████████████████████████████████████| 562/562 [00:00<00:00, 965.60it/s]\n",
      "100%|███████████████████████████████████████████████████████████████████████████████| 564/564 [00:00<00:00, 879.87it/s]\n",
      "100%|███████████████████████████████████████████████████████████████████████████████| 565/565 [00:00<00:00, 911.28it/s]\n",
      "100%|███████████████████████████████████████████████████████████████████████████████| 566/566 [00:00<00:00, 866.79it/s]\n",
      "100%|███████████████████████████████████████████████████████████████████████████████| 566/566 [00:00<00:00, 785.01it/s]\n",
      "100%|███████████████████████████████████████████████████████████████████████████████| 566/566 [00:00<00:00, 839.79it/s]\n"
     ]
    },
    {
     "data": {
      "image/png": "[encoded data removed]",
      "text/plain": [
       "<Figure size 432x288 with 1 Axes>"
      ]
     },
     "metadata": {
      "needs_background": "light"
     },
     "output_type": "display_data"
    },
    {
     "name": "stdout",
     "output_type": "stream",
     "text": [
      "              precision    recall  f1-score   support\n",
      "\n",
      "           0       0.62      0.81      0.70       186\n",
      "           1       0.39      0.27      0.32       143\n",
      "           2       0.76      0.73      0.74       237\n",
      "\n",
      "    accuracy                           0.64       566\n",
      "   macro avg       0.59      0.60      0.59       566\n",
      "weighted avg       0.62      0.64      0.62       566\n",
      "\n"
     ]
    }
   ],
   "source": [
    "f1s = []\n",
    "roc_aucs = []\n",
    "\n",
    "best_f1 = -1\n",
    "best_roc_auc = -1\n",
    "best_report = \"\"\n",
    "\n",
    "for k in range(2, 11):\n",
    "    est = preprocessing.KBinsDiscretizer(n_bins=k, encode='ordinal', strategy='uniform')\n",
    "\n",
    "    X_train_discrete = X_train.copy()\n",
    "    X_train_discrete[features] = est.fit_transform(X_train_discrete)\n",
    "\n",
    "    X_test_discrete = X_test.copy()\n",
    "    X_test_discrete[features] = est.transform(X_test_discrete) \n",
    "    clf = NaiveBayesPGMPY(features)\n",
    "    clf.fit(X_train_discrete, y_train)\n",
    "    y_pred = clf.predict(X_test_discrete)    \n",
    "    f1 = f1_score(y_test, y_pred, average=\"macro\")\n",
    "    roc_auc = calculate_roc_auc(y_test, y_pred)\n",
    "    f1s.append(f1)\n",
    "    roc_aucs.append(roc_auc)\n",
    "    if f1 > best_f1:\n",
    "        best_f1 = f1\n",
    "        best_roc_auc = roc_auc\n",
    "        best_report = classification_report(y_test, y_pred)\n",
    "\n",
    "plt.title(\"PGMPY - F1 Score num of bins\")\n",
    "plt.ylim([0, 1])\n",
    "plt.plot(range(2,11),\n",
    "        f1s)        \n",
    "plt.show()        \n",
    "    \n",
    "    \n",
    "f1_scores.append(best_f1)\n",
    "roc_auc_scores.append(best_roc_auc)\n",
    "\n",
    "print(best_report)"
   ]
  },
  {
   "cell_type": "markdown",
   "metadata": {},
   "source": [
    "# Scores"
   ]
  },
  {
   "cell_type": "code",
   "execution_count": 21,
   "metadata": {},
   "outputs": [
    {
     "data": {
      "text/plain": [
       "<BarContainer object of 7 artists>"
      ]
     },
     "execution_count": 21,
     "metadata": {},
     "output_type": "execute_result"
    },
    {
     "data": {
      "image/png": "[encoded data removed]",
      "text/plain": [
       "<Figure size 432x288 with 1 Axes>"
      ]
     },
     "metadata": {
      "needs_background": "light"
     },
     "output_type": "display_data"
    }
   ],
   "source": [
    "plt.title(\"F1 Score by classifier\")\n",
    "plt.ylim([0, 1])\n",
    "plt.xticks(rotation=60)\n",
    "plt.bar([\"GaussianNB\", \"BernoulliNB\", \"MultinomialNB\", \"ComplementNB\", \"CategoricalNB\", \"Pyro\", \"pgmpy\"],\n",
    "        f1_scores,\n",
    "        color=[\"r\", \"b\", \"lime\", \"m\", \"orange\", \"c\",  \"teal\" ])"
   ]
  },
  {
   "cell_type": "code",
   "execution_count": 22,
   "metadata": {},
   "outputs": [
    {
     "data": {
      "text/plain": [
       "<BarContainer object of 7 artists>"
      ]
     },
     "execution_count": 22,
     "metadata": {},
     "output_type": "execute_result"
    },
    {
     "data": {
      "image/png": "[encoded data removed]",
      "text/plain": [
       "<Figure size 432x288 with 1 Axes>"
      ]
     },
     "metadata": {
      "needs_background": "light"
     },
     "output_type": "display_data"
    }
   ],
   "source": [
    "plt.title(\"ROC AUC by classifier\")\n",
    "plt.ylim([0, 1])\n",
    "plt.xticks(rotation=60)\n",
    "plt.bar([\"GaussianNB\", \"BernoulliNB\", \"MultinomialNB\", \"ComplementNB\", \"CategoricalNB\", \"Pyro\", \"pgmpy\"],\n",
    "        roc_auc_scores,\n",
    "        color=[\"r\", \"b\", \"lime\", \"m\", \"orange\", \"c\",  \"teal\" ])"
   ]
  },
  {
   "cell_type": "markdown",
   "metadata": {},
   "source": [
    "# Nicotine"
   ]
  },
  {
   "cell_type": "code",
   "execution_count": 23,
   "metadata": {},
   "outputs": [],
   "source": [
    "np.random.seed(seed=123)\n",
    "pyro.set_rng_seed(2)"
   ]
  },
  {
   "cell_type": "markdown",
   "metadata": {},
   "source": [
    "## Read data"
   ]
  },
  {
   "cell_type": "code",
   "execution_count": 24,
   "metadata": {},
   "outputs": [],
   "source": [
    "nicotine = pd.read_csv(\"data/nicotine_preprocessed.csv\")"
   ]
  },
  {
   "cell_type": "code",
   "execution_count": 25,
   "metadata": {},
   "outputs": [
    {
     "data": {
      "text/plain": [
       "Index(['Unnamed: 0', 'Age', 'Gender', 'Education', 'Country', 'Ethnicity',\n",
       "       'Nscore', 'Escore', 'Oscore', 'Ascore', 'Cscore', 'Impulsive', 'SS',\n",
       "       'Alcohol', 'Amphetamine', 'AmylNitrite', 'Benzodiazepine', 'Caffeine',\n",
       "       'Cannabis', 'Chocolate', 'Cocaine', 'Crack', 'Ecstasy', 'Heroin',\n",
       "       'Ketamine', 'LegalHighs', 'LSD', 'Methadone', 'Mushrooms', 'VSA',\n",
       "       'Nicotine', 'Usage'],\n",
       "      dtype='object')"
      ]
     },
     "execution_count": 25,
     "metadata": {},
     "output_type": "execute_result"
    }
   ],
   "source": [
    "nicotine.columns"
   ]
  },
  {
   "cell_type": "code",
   "execution_count": 26,
   "metadata": {},
   "outputs": [],
   "source": [
    "human_features = [\"Age\", \"Gender\", \"Education\", \"Country\", \"Ethnicity\", \"Nscore\",  \"Escore\", \"Oscore\",\n",
    "           \"Ascore\", \"Cscore\", \"Impulsive\", \"SS\"]\n",
    "all_features = ['Age', 'Gender', 'Education', 'Country', 'Ethnicity',\n",
    "       'Nscore', 'Escore', 'Oscore', 'Ascore', 'Cscore', 'Impulsive', 'SS', 'Cannabis',\n",
    "       'Alcohol', 'Amphetamine', 'AmylNitrite', 'Benzodiazepine', 'Caffeine',\n",
    "       'Chocolate', 'Cocaine', 'Crack', 'Ecstasy', 'Heroin', 'Ketamine',\n",
    "       'LegalHighs', 'LSD', 'Methadone', 'Mushrooms', 'VSA']\n",
    "\n",
    "target = 'Nicotine'"
   ]
  },
  {
   "cell_type": "code",
   "execution_count": 27,
   "metadata": {},
   "outputs": [],
   "source": [
    "df_train = nicotine[nicotine.Usage == \"Train\"]\n",
    "df_test  = nicotine[nicotine.Usage == \"Test\"]"
   ]
  },
  {
   "cell_type": "code",
   "execution_count": 28,
   "metadata": {},
   "outputs": [],
   "source": [
    "# change features depending on which one you want to use\n",
    "features = human_features\n",
    "X_train = df_train[features]\n",
    "y_train = df_train[target]\n",
    "\n",
    "X_test = df_test[features]\n",
    "y_test = df_test[target]"
   ]
  },
  {
   "cell_type": "code",
   "execution_count": 29,
   "metadata": {},
   "outputs": [],
   "source": [
    "le= preprocessing.LabelEncoder()\n",
    "y_train = le.fit_transform(y_train)\n",
    "y_test = le.transform(y_test)"
   ]
  },
  {
   "cell_type": "code",
   "execution_count": 30,
   "metadata": {},
   "outputs": [],
   "source": [
    "f1_scores = []\n",
    "roc_auc_scores = []"
   ]
  },
  {
   "cell_type": "code",
   "execution_count": 31,
   "metadata": {},
   "outputs": [],
   "source": [
    "def calculate_roc_auc(y_test, y_pred):\n",
    "    test_arr = np.asarray(y_test).reshape(len(y_test), 1)\n",
    "    pred_arr = np.asarray(y_pred).reshape(len(y_pred), 1)\n",
    "    enc = preprocessing.OneHotEncoder()\n",
    "    test_arr = enc.fit_transform(test_arr).toarray()\n",
    "    pred_arr = enc.transform(pred_arr).toarray()\n",
    "    return roc_auc_score(test_arr, pred_arr, multi_class=\"ovr\", average=\"macro\")\n",
    "\n"
   ]
  },
  {
   "cell_type": "markdown",
   "metadata": {},
   "source": [
    "## Sklearn"
   ]
  },
  {
   "cell_type": "code",
   "execution_count": 32,
   "metadata": {},
   "outputs": [
    {
     "name": "stdout",
     "output_type": "stream",
     "text": [
      "              precision    recall  f1-score   support\n",
      "\n",
      "           0       0.58      0.66      0.61       186\n",
      "           1       0.28      0.23      0.25       117\n",
      "           2       0.63      0.62      0.62       263\n",
      "\n",
      "    accuracy                           0.55       566\n",
      "   macro avg       0.50      0.50      0.50       566\n",
      "weighted avg       0.54      0.55      0.54       566\n",
      "\n"
     ]
    }
   ],
   "source": [
    "clf = GaussianNB()\n",
    "clf.fit(X_train, y_train)\n",
    "y_pred = clf.predict(X_test)\n",
    "\n",
    "f1_scores.append(f1_score(y_test, y_pred, average=\"macro\"))\n",
    "roc_auc_scores.append(calculate_roc_auc(y_test, y_pred))\n",
    "\n",
    "print(classification_report(y_test, y_pred))"
   ]
  },
  {
   "cell_type": "code",
   "execution_count": 33,
   "metadata": {},
   "outputs": [
    {
     "name": "stdout",
     "output_type": "stream",
     "text": [
      "              precision    recall  f1-score   support\n",
      "\n",
      "           0       0.53      0.68      0.59       186\n",
      "           1       0.50      0.03      0.06       117\n",
      "           2       0.59      0.72      0.65       263\n",
      "\n",
      "    accuracy                           0.56       566\n",
      "   macro avg       0.54      0.48      0.44       566\n",
      "weighted avg       0.55      0.56      0.51       566\n",
      "\n"
     ]
    }
   ],
   "source": [
    "clf = BernoulliNB()\n",
    "clf.fit(X_train, y_train)\n",
    "y_pred = clf.predict(X_test)\n",
    "\n",
    "f1_scores.append(f1_score(y_test, y_pred, average=\"macro\"))\n",
    "roc_auc_scores.append(calculate_roc_auc(y_test, y_pred))\n",
    "\n",
    "print(classification_report(y_test, y_pred))"
   ]
  },
  {
   "cell_type": "code",
   "execution_count": 34,
   "metadata": {},
   "outputs": [],
   "source": [
    "scaler = preprocessing.MinMaxScaler()\n",
    "X_train_scaled = scaler.fit_transform(X_train)\n",
    "X_test_scaled = scaler.transform(X_test)"
   ]
  },
  {
   "cell_type": "code",
   "execution_count": 35,
   "metadata": {},
   "outputs": [
    {
     "name": "stdout",
     "output_type": "stream",
     "text": [
      "              precision    recall  f1-score   support\n",
      "\n",
      "           0       0.59      0.45      0.51       186\n",
      "           1       0.00      0.00      0.00       117\n",
      "           2       0.53      0.86      0.66       263\n",
      "\n",
      "    accuracy                           0.55       566\n",
      "   macro avg       0.38      0.44      0.39       566\n",
      "weighted avg       0.44      0.55      0.47       566\n",
      "\n"
     ]
    },
    {
     "name": "stderr",
     "output_type": "stream",
     "text": [
      "c:\\python38\\lib\\site-packages\\sklearn\\metrics\\_classification.py:1245: UndefinedMetricWarning: Precision and F-score are ill-defined and being set to 0.0 in labels with no predicted samples. Use `zero_division` parameter to control this behavior.\n",
      "  _warn_prf(average, modifier, msg_start, len(result))\n",
      "c:\\python38\\lib\\site-packages\\sklearn\\metrics\\_classification.py:1245: UndefinedMetricWarning: Precision and F-score are ill-defined and being set to 0.0 in labels with no predicted samples. Use `zero_division` parameter to control this behavior.\n",
      "  _warn_prf(average, modifier, msg_start, len(result))\n",
      "c:\\python38\\lib\\site-packages\\sklearn\\metrics\\_classification.py:1245: UndefinedMetricWarning: Precision and F-score are ill-defined and being set to 0.0 in labels with no predicted samples. Use `zero_division` parameter to control this behavior.\n",
      "  _warn_prf(average, modifier, msg_start, len(result))\n"
     ]
    }
   ],
   "source": [
    "clf = MultinomialNB()\n",
    "clf.fit(X_train_scaled, y_train)\n",
    "y_pred = clf.predict(X_test_scaled)\n",
    "\n",
    "f1_scores.append(f1_score(y_test, y_pred, average=\"macro\"))\n",
    "roc_auc_scores.append(calculate_roc_auc(y_test, y_pred))\n",
    "\n",
    "print(classification_report(y_test, y_pred))"
   ]
  },
  {
   "cell_type": "code",
   "execution_count": 36,
   "metadata": {},
   "outputs": [
    {
     "name": "stdout",
     "output_type": "stream",
     "text": [
      "              precision    recall  f1-score   support\n",
      "\n",
      "           0       0.47      0.75      0.58       186\n",
      "           1       0.00      0.00      0.00       117\n",
      "           2       0.60      0.62      0.61       263\n",
      "\n",
      "    accuracy                           0.53       566\n",
      "   macro avg       0.36      0.45      0.40       566\n",
      "weighted avg       0.43      0.53      0.47       566\n",
      "\n"
     ]
    }
   ],
   "source": [
    "clf = ComplementNB()\n",
    "clf.fit(X_train_scaled, y_train)\n",
    "y_pred = clf.predict(X_test_scaled)\n",
    "\n",
    "f1_scores.append(f1_score(y_test, y_pred, average=\"macro\"))\n",
    "roc_auc_scores.append(calculate_roc_auc(y_test, y_pred))\n",
    "\n",
    "print(classification_report(y_test, y_pred))"
   ]
  },
  {
   "cell_type": "code",
   "execution_count": 37,
   "metadata": {},
   "outputs": [
    {
     "data": {
      "image/png": "[encoded data removed]",
      "text/plain": [
       "<Figure size 432x288 with 1 Axes>"
      ]
     },
     "metadata": {
      "needs_background": "light"
     },
     "output_type": "display_data"
    },
    {
     "name": "stdout",
     "output_type": "stream",
     "text": [
      "              precision    recall  f1-score   support\n",
      "\n",
      "           0       0.54      0.71      0.62       186\n",
      "           1       0.32      0.09      0.15       117\n",
      "           2       0.62      0.68      0.65       263\n",
      "\n",
      "    accuracy                           0.57       566\n",
      "   macro avg       0.50      0.49      0.47       566\n",
      "weighted avg       0.53      0.57      0.53       566\n",
      "\n"
     ]
    }
   ],
   "source": [
    "f1s = []\n",
    "roc_aucs = []\n",
    "\n",
    "best_f1 = -1\n",
    "best_roc_auc = -1\n",
    "best_report = \"\"\n",
    "\n",
    "for k in range(2, 11):\n",
    "    est = preprocessing.KBinsDiscretizer(n_bins=k, encode='ordinal', strategy='uniform')\n",
    "\n",
    "    X_train_discrete = X_train.copy()\n",
    "    X_train_discrete[features] = est.fit_transform(X_train_discrete)\n",
    "\n",
    "    X_test_discrete = X_test.copy()\n",
    "    X_test_discrete[features] = est.transform(X_test_discrete) \n",
    "    clf = CategoricalNB()\n",
    "    clf.fit(X_train_discrete, y_train)\n",
    "    y_pred = clf.predict(X_test_discrete)    \n",
    "    f1 = f1_score(y_test, y_pred, average=\"macro\")\n",
    "    roc_auc = calculate_roc_auc(y_test, y_pred)\n",
    "    f1s.append(f1)\n",
    "    roc_aucs.append(roc_auc)\n",
    "    if f1 > best_f1:\n",
    "        best_f1 = f1\n",
    "        best_roc_auc = roc_auc\n",
    "        best_report = classification_report(y_test, y_pred)\n",
    "        \n",
    "plt.title(\"Categorical - F1 Score num of bins\")\n",
    "plt.ylim([0, 1])\n",
    "plt.plot(range(2,11),\n",
    "        f1s)        \n",
    "plt.show()        \n",
    "    \n",
    "    \n",
    "f1_scores.append(best_f1)\n",
    "roc_auc_scores.append(best_roc_auc)\n",
    "\n",
    "print(best_report)"
   ]
  },
  {
   "cell_type": "markdown",
   "metadata": {},
   "source": [
    "# Pyro"
   ]
  },
  {
   "cell_type": "code",
   "execution_count": 38,
   "metadata": {
    "scrolled": false
   },
   "outputs": [
    {
     "data": {
      "application/vnd.jupyter.widget-view+json": {
       "model_id": "1b05104e5bc94249a381d488973284eb",
       "version_major": 2,
       "version_minor": 0
      },
      "text/plain": [
       "HBox(children=(FloatProgress(value=0.0), HTML(value='')))"
      ]
     },
     "metadata": {},
     "output_type": "display_data"
    },
    {
     "name": "stdout",
     "output_type": "stream",
     "text": [
      "Epoch: 0 Loss = 23908.029\n",
      "\n"
     ]
    },
    {
     "data": {
      "image/png": "[encoded data removed]",
      "text/plain": [
       "<Figure size 432x288 with 1 Axes>"
      ]
     },
     "metadata": {
      "needs_background": "light"
     },
     "output_type": "display_data"
    },
    {
     "name": "stdout",
     "output_type": "stream",
     "text": [
      "              precision    recall  f1-score   support\n",
      "\n",
      "           0       0.56      0.65      0.60       186\n",
      "           1       0.39      0.10      0.16       117\n",
      "           2       0.61      0.74      0.67       263\n",
      "\n",
      "    accuracy                           0.58       566\n",
      "   macro avg       0.52      0.50      0.48       566\n",
      "weighted avg       0.55      0.58      0.54       566\n",
      "\n"
     ]
    }
   ],
   "source": [
    "clf = GaussianNBClassifierPyro(num_epochs=100)\n",
    "losses = clf.fit(X_train, y_train)\n",
    "y_pred = clf.predict(X_test)\n",
    "\n",
    "plt.title(\"Pyro - losses by num of epochs\")\n",
    "plt.plot(range(1, 101), losses)        \n",
    "plt.show() \n",
    "\n",
    "f1_scores.append(f1_score(y_test, y_pred, average=\"macro\"))\n",
    "roc_auc_scores.append(calculate_roc_auc(y_test, y_pred))\n",
    "\n",
    "print(classification_report(y_test, y_pred))"
   ]
  },
  {
   "cell_type": "markdown",
   "metadata": {},
   "source": [
    "# PGMPY"
   ]
  },
  {
   "cell_type": "code",
   "execution_count": null,
   "metadata": {
    "scrolled": false
   },
   "outputs": [
    {
     "name": "stderr",
     "output_type": "stream",
     "text": [
      " 25%|███████████████████▊                                                            | 96/387 [00:00<00:00, 705.82it/s]"
     ]
    }
   ],
   "source": [
    "f1s = []\n",
    "roc_aucs = []\n",
    "\n",
    "best_f1 = -1\n",
    "best_roc_auc = -1\n",
    "best_report = \"\"\n",
    "\n",
    "for k in range(2, 11):\n",
    "    est = preprocessing.KBinsDiscretizer(n_bins=k, encode='ordinal', strategy='uniform')\n",
    "\n",
    "    X_train_discrete = X_train.copy()\n",
    "    X_train_discrete[features] = est.fit_transform(X_train_discrete)\n",
    "\n",
    "    X_test_discrete = X_test.copy()\n",
    "    X_test_discrete[features] = est.transform(X_test_discrete) \n",
    "    clf = NaiveBayesPGMPY(features)\n",
    "    clf.fit(X_train_discrete, y_train)\n",
    "    y_pred = clf.predict(X_test_discrete)    \n",
    "    f1 = f1_score(y_test, y_pred, average=\"macro\")\n",
    "    roc_auc = calculate_roc_auc(y_test, y_pred)\n",
    "    f1s.append(f1)\n",
    "    roc_aucs.append(roc_auc)\n",
    "    if f1 > best_f1:\n",
    "        best_f1 = f1\n",
    "        best_roc_auc = roc_auc\n",
    "        best_report = classification_report(y_test, y_pred)\n",
    "\n",
    "plt.title(\"PGMPY - F1 Score num of bins\")\n",
    "plt.ylim([0, 1])\n",
    "plt.plot(range(2,11),\n",
    "        f1s)        \n",
    "plt.show()        \n",
    "    \n",
    "    \n",
    "f1_scores.append(best_f1)\n",
    "roc_auc_scores.append(best_roc_auc)\n",
    "\n",
    "print(best_report)"
   ]
  },
  {
   "cell_type": "markdown",
   "metadata": {},
   "source": [
    "# Scores"
   ]
  },
  {
   "cell_type": "code",
   "execution_count": null,
   "metadata": {},
   "outputs": [],
   "source": [
    "plt.title(\"F1 Score by classifier\")\n",
    "plt.ylim([0, 1])\n",
    "plt.xticks(rotation=60)\n",
    "plt.bar([\"GaussianNB\", \"BernoulliNB\", \"MultinomialNB\", \"ComplementNB\", \"CategoricalNB\", \"Pyro\", \"pgmpy\"],\n",
    "        f1_scores,\n",
    "        color=[\"r\", \"b\", \"lime\", \"m\", \"orange\", \"c\",  \"teal\" ])"
   ]
  },
  {
   "cell_type": "code",
   "execution_count": null,
   "metadata": {},
   "outputs": [],
   "source": [
    "plt.title(\"ROC AUC by classifier\")\n",
    "plt.ylim([0, 1])\n",
    "plt.xticks(rotation=60)\n",
    "plt.bar([\"GaussianNB\", \"BernoulliNB\", \"MultinomialNB\", \"ComplementNB\", \"CategoricalNB\", \"Pyro\", \"pgmpy\"],\n",
    "        roc_auc_scores,\n",
    "        color=[\"r\", \"b\", \"lime\", \"m\", \"orange\", \"c\",  \"teal\" ])"
   ]
  }
 ],
 "metadata": {
  "kernelspec": {
   "display_name": "Python 3",
   "language": "python",
   "name": "python3"
  },
  "language_info": {
   "codemirror_mode": {
    "name": "ipython",
    "version": 3
   },
   "file_extension": ".py",
   "mimetype": "text/x-python",
   "name": "python",
   "nbconvert_exporter": "python",
   "pygments_lexer": "ipython3",
   "version": "3.8.3"
  }
 },
 "nbformat": 4,
 "nbformat_minor": 4
}
